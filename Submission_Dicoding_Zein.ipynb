{
  "nbformat": 4,
  "nbformat_minor": 0,
  "metadata": {
    "colab": {
      "name": "Submission Dicoding - Zein.ipynb",
      "provenance": [],
      "collapsed_sections": []
    },
    "kernelspec": {
      "name": "python3",
      "display_name": "Python 3"
    },
    "language_info": {
      "name": "python"
    }
  },
  "cells": [
    {
      "cell_type": "markdown",
      "metadata": {
        "id": "2pg7QCzeJDIA"
      },
      "source": [
        "# Data diri\n",
        "\n",
        "Nama : Zein Rasyid Himami\n",
        "\n",
        "Email : zeinrasyid18@gmail.com\n",
        "\n",
        "Domisili : Kabupaten Bekasi"
      ]
    },
    {
      "cell_type": "markdown",
      "metadata": {
        "id": "DJx5rvhCDzNg"
      },
      "source": [
        "# Submission"
      ]
    },
    {
      "cell_type": "markdown",
      "metadata": {
        "id": "khFUNM0mGd0m"
      },
      "source": [
        "Install the required library"
      ]
    },
    {
      "cell_type": "code",
      "metadata": {
        "colab": {
          "base_uri": "https://localhost:8080/"
        },
        "id": "2JqKX6PJFrka",
        "outputId": "751da4ea-5dea-48b1-c403-2c42d35f171b"
      },
      "source": [
        "pip install split-folders"
      ],
      "execution_count": 1,
      "outputs": [
        {
          "output_type": "stream",
          "text": [
            "Collecting split-folders\n",
            "  Downloading https://files.pythonhosted.org/packages/b8/5f/3c2b2f7ea5e047c8cdc3bb00ae582c5438fcdbbedcc23b3cc1c2c7aae642/split_folders-0.4.3-py3-none-any.whl\n",
            "Installing collected packages: split-folders\n",
            "Successfully installed split-folders-0.4.3\n"
          ],
          "name": "stdout"
        }
      ]
    },
    {
      "cell_type": "markdown",
      "metadata": {
        "id": "gZoFLut0DxYr"
      },
      "source": [
        "Import library"
      ]
    },
    {
      "cell_type": "code",
      "metadata": {
        "id": "9EWx6DNgzy-U"
      },
      "source": [
        "from tensorflow import keras\n",
        "from keras.models import load_model, Sequential\n",
        "from keras.preprocessing.image import ImageDataGenerator\n",
        "from keras.preprocessing import image\n",
        "from keras.layers import Conv2D, MaxPooling2D, Flatten, Dense, Dropout\n",
        "\n",
        "from sklearn.metrics import classification_report, confusion_matrix\n",
        "\n",
        "from google.colab import files\n",
        "\n",
        "import zipfile, os, warnings, shutil#, splitfolders\n",
        "import numpy as np, pandas as pd\n",
        "import matplotlib.pyplot as plt, matplotlib.image as mpimg\n",
        "\n",
        "warnings.filterwarnings(\"ignore\")\n",
        "%matplotlib inline"
      ],
      "execution_count": 4,
      "outputs": []
    },
    {
      "cell_type": "markdown",
      "metadata": {
        "id": "jeuqtEeQfySL"
      },
      "source": [
        "Download data"
      ]
    },
    {
      "cell_type": "code",
      "metadata": {
        "colab": {
          "base_uri": "https://localhost:8080/"
        },
        "id": "An0E2luCff33",
        "outputId": "b058171f-4768-4abf-bcac-1a334385e59b"
      },
      "source": [
        "!wget --no-check-certificate \\\n",
        "  https://dicodingacademy.blob.core.windows.net/picodiploma/ml_pemula_academy/rockpaperscissors.zip \\\n",
        "  -O /tmp/rockpaperscissors.zip"
      ],
      "execution_count": 5,
      "outputs": [
        {
          "output_type": "stream",
          "text": [
            "--2021-07-10 23:28:37--  https://dicodingacademy.blob.core.windows.net/picodiploma/ml_pemula_academy/rockpaperscissors.zip\n",
            "Resolving dicodingacademy.blob.core.windows.net (dicodingacademy.blob.core.windows.net)... 52.239.197.36\n",
            "Connecting to dicodingacademy.blob.core.windows.net (dicodingacademy.blob.core.windows.net)|52.239.197.36|:443... connected.\n",
            "HTTP request sent, awaiting response... 200 OK\n",
            "Length: 322873683 (308M) [application/zip]\n",
            "Saving to: ‘/tmp/rockpaperscissors.zip’\n",
            "\n",
            "/tmp/rockpapersciss 100%[===================>] 307.92M  3.62MB/s    in 57s     \n",
            "\n",
            "2021-07-10 23:29:34 (5.44 MB/s) - ‘/tmp/rockpaperscissors.zip’ saved [322873683/322873683]\n",
            "\n"
          ],
          "name": "stdout"
        }
      ]
    },
    {
      "cell_type": "markdown",
      "metadata": {
        "id": "MEOvK-IKgGrd"
      },
      "source": [
        "Extract data"
      ]
    },
    {
      "cell_type": "code",
      "metadata": {
        "colab": {
          "base_uri": "https://localhost:8080/"
        },
        "id": "e0x7IYQT8O6b",
        "outputId": "8130e0cf-9776-4dae-9b6f-36d004389a13"
      },
      "source": [
        "#Zein\n",
        "\n",
        "with zipfile.ZipFile('/tmp/rockpaperscissors.zip','r') as zip_ref:\n",
        "  zip_ref.extractall('/tmp')\n",
        "\n",
        "print(os.listdir('/tmp/rockpaperscissors'))"
      ],
      "execution_count": 6,
      "outputs": [
        {
          "output_type": "stream",
          "text": [
            "['rock', 'paper', 'rps-cv-images', 'README_rpc-cv-images.txt', 'scissors']\n"
          ],
          "name": "stdout"
        }
      ]
    },
    {
      "cell_type": "markdown",
      "metadata": {
        "id": "FpnWnIifC73p"
      },
      "source": [
        "Remove unneeded file / directory"
      ]
    },
    {
      "cell_type": "code",
      "metadata": {
        "colab": {
          "base_uri": "https://localhost:8080/"
        },
        "id": "73YEpeHaCHyM",
        "outputId": "5296a89a-1124-4a21-9ea2-ce1cd7e7450f"
      },
      "source": [
        "shutil.rmtree('/tmp/rockpaperscissors/rps-cv-images')\n",
        "\n",
        "os.remove('/tmp/rockpaperscissors/README_rpc-cv-images.txt')\n",
        "\n",
        "print(os.listdir('/tmp/rockpaperscissors'))"
      ],
      "execution_count": 7,
      "outputs": [
        {
          "output_type": "stream",
          "text": [
            "['rock', 'paper', 'scissors']\n"
          ],
          "name": "stdout"
        }
      ]
    },
    {
      "cell_type": "markdown",
      "metadata": {
        "id": "1b1aFJUoHInj"
      },
      "source": [
        "Augment train and val data"
      ]
    },
    {
      "cell_type": "code",
      "metadata": {
        "colab": {
          "base_uri": "https://localhost:8080/"
        },
        "id": "gA2RcSYVHVjA",
        "outputId": "f5d7adf8-fb79-452e-ddc2-42da0a81846e"
      },
      "source": [
        "train_gen = ImageDataGenerator(rescale=1.255,\n",
        "                               zoom_range=0.2,\n",
        "                               rotation_range = 30,\n",
        "                               shear_range=0.2,\n",
        "                               vertical_flip=True,\n",
        "                               width_shift_range=0.2,\n",
        "                               height_shift_range=0.2,\n",
        "                               fill_mode='nearest',\n",
        "                               validation_split=0.4\n",
        "                               )\n",
        "val_gen = ImageDataGenerator(rescale=1.255, validation_split=0.4)\n",
        "\n",
        "train_ds = train_gen.flow_from_directory('/tmp/rockpaperscissors',\n",
        "                                         target_size=(224,224),\n",
        "                                         seed = 123,\n",
        "                                         class_mode = 'categorical',\n",
        "                                         subset='training',\n",
        "                                         batch_size=131\n",
        "                                         )\n",
        "\n",
        "val_ds = val_gen.flow_from_directory('/tmp/rockpaperscissors',\n",
        "                                     target_size=(224,224),\n",
        "                                     seed = 123,\n",
        "                                     class_mode = 'categorical',\n",
        "                                     subset='validation',\n",
        "                                     batch_size=131\n",
        "                                     ) #shuffle=False"
      ],
      "execution_count": 9,
      "outputs": [
        {
          "output_type": "stream",
          "text": [
            "Found 1314 images belonging to 3 classes.\n",
            "Found 874 images belonging to 3 classes.\n"
          ],
          "name": "stdout"
        }
      ]
    },
    {
      "cell_type": "markdown",
      "metadata": {
        "id": "gJQX6MdmKhcD"
      },
      "source": [
        "Create model sequential"
      ]
    },
    {
      "cell_type": "code",
      "metadata": {
        "colab": {
          "base_uri": "https://localhost:8080/"
        },
        "id": "VAo_LPC3HVZk",
        "outputId": "8eb63587-1819-441f-e831-1193c9513c82"
      },
      "source": [
        "keras.backend.clear_session()\n",
        "\n",
        "model = Sequential([\n",
        "                           Conv2D(16, (3, 3), activation='relu', input_shape=(224, 224, 3)),\n",
        "                           MaxPooling2D(2, 2),\n",
        "                           Conv2D(32, (3,3), activation='relu'),\n",
        "                           MaxPooling2D(2,2),\n",
        "                           Conv2D(64, (3,3), activation='relu'),\n",
        "                           MaxPooling2D(2,2),\n",
        "                           Conv2D(128, (3,3), activation='relu'),\n",
        "                           MaxPooling2D(2,2),\n",
        "                           Conv2D(256, (3,3), activation='relu'),\n",
        "                           MaxPooling2D(2,2),                    \n",
        "                           Flatten(),\n",
        "                           Dense(512, activation='relu'),\n",
        "                           Dense(3, activation='softmax')\n",
        "                           ])\n",
        "\n",
        "model.summary()"
      ],
      "execution_count": 10,
      "outputs": [
        {
          "output_type": "stream",
          "text": [
            "Model: \"sequential\"\n",
            "_________________________________________________________________\n",
            "Layer (type)                 Output Shape              Param #   \n",
            "=================================================================\n",
            "conv2d (Conv2D)              (None, 222, 222, 16)      448       \n",
            "_________________________________________________________________\n",
            "max_pooling2d (MaxPooling2D) (None, 111, 111, 16)      0         \n",
            "_________________________________________________________________\n",
            "conv2d_1 (Conv2D)            (None, 109, 109, 32)      4640      \n",
            "_________________________________________________________________\n",
            "max_pooling2d_1 (MaxPooling2 (None, 54, 54, 32)        0         \n",
            "_________________________________________________________________\n",
            "conv2d_2 (Conv2D)            (None, 52, 52, 64)        18496     \n",
            "_________________________________________________________________\n",
            "max_pooling2d_2 (MaxPooling2 (None, 26, 26, 64)        0         \n",
            "_________________________________________________________________\n",
            "conv2d_3 (Conv2D)            (None, 24, 24, 128)       73856     \n",
            "_________________________________________________________________\n",
            "max_pooling2d_3 (MaxPooling2 (None, 12, 12, 128)       0         \n",
            "_________________________________________________________________\n",
            "conv2d_4 (Conv2D)            (None, 10, 10, 256)       295168    \n",
            "_________________________________________________________________\n",
            "max_pooling2d_4 (MaxPooling2 (None, 5, 5, 256)         0         \n",
            "_________________________________________________________________\n",
            "flatten (Flatten)            (None, 6400)              0         \n",
            "_________________________________________________________________\n",
            "dense (Dense)                (None, 512)               3277312   \n",
            "_________________________________________________________________\n",
            "dense_1 (Dense)              (None, 3)                 1539      \n",
            "=================================================================\n",
            "Total params: 3,671,459\n",
            "Trainable params: 3,671,459\n",
            "Non-trainable params: 0\n",
            "_________________________________________________________________\n"
          ],
          "name": "stdout"
        }
      ]
    },
    {
      "cell_type": "markdown",
      "metadata": {
        "id": "3l6Zs1hfMbkE"
      },
      "source": [
        "Define callbacks consisting of early stopping and reduce learning rate, then save the best model to Model.h5"
      ]
    },
    {
      "cell_type": "code",
      "metadata": {
        "id": "AYwJEK8OHVXb"
      },
      "source": [
        "callbacks = [keras.callbacks.EarlyStopping(monitor='val_loss',patience=3),\n",
        "            keras.callbacks.ReduceLROnPlateau(monitor='val_loss', patience=2, min_lr=1.5e-5),\n",
        "            keras.callbacks.ModelCheckpoint(\"Model.h5\",verbose=1,save_best_only=True)]"
      ],
      "execution_count": 11,
      "outputs": []
    },
    {
      "cell_type": "markdown",
      "metadata": {
        "id": "BG0qAoJJH_Sz"
      },
      "source": [
        "Compile and run the model"
      ]
    },
    {
      "cell_type": "code",
      "metadata": {
        "id": "o8GrsUluHVRn",
        "colab": {
          "base_uri": "https://localhost:8080/"
        },
        "outputId": "77b2aabe-b937-4744-eafd-8c84ba98df08"
      },
      "source": [
        "model.compile(optimizer='adam', loss='categorical_crossentropy', metrics=['accuracy'])\n",
        "\n",
        "hist = model.fit(train_ds, epochs=14, callbacks=callbacks, verbose=1, validation_data=val_ds)"
      ],
      "execution_count": 12,
      "outputs": [
        {
          "output_type": "stream",
          "text": [
            "Epoch 1/14\n",
            "11/11 [==============================] - 117s 9s/step - loss: 22.8011 - accuracy: 0.3221 - val_loss: 1.1111 - val_accuracy: 0.4371\n",
            "\n",
            "Epoch 00001: val_loss improved from inf to 1.11108, saving model to Model.h5\n",
            "Epoch 2/14\n",
            "11/11 [==============================] - 96s 10s/step - loss: 1.0915 - accuracy: 0.4294 - val_loss: 0.7944 - val_accuracy: 0.7963\n",
            "\n",
            "Epoch 00002: val_loss improved from 1.11108 to 0.79442, saving model to Model.h5\n",
            "Epoch 3/14\n",
            "11/11 [==============================] - 96s 9s/step - loss: 0.8568 - accuracy: 0.6398 - val_loss: 1.2445 - val_accuracy: 0.4291\n",
            "\n",
            "Epoch 00003: val_loss did not improve from 0.79442\n",
            "Epoch 4/14\n",
            "11/11 [==============================] - 96s 9s/step - loss: 1.1748 - accuracy: 0.5330 - val_loss: 0.7171 - val_accuracy: 0.6602\n",
            "\n",
            "Epoch 00004: val_loss improved from 0.79442 to 0.71714, saving model to Model.h5\n",
            "Epoch 5/14\n",
            "11/11 [==============================] - 99s 9s/step - loss: 0.7757 - accuracy: 0.6732 - val_loss: 0.3249 - val_accuracy: 0.8879\n",
            "\n",
            "Epoch 00005: val_loss improved from 0.71714 to 0.32485, saving model to Model.h5\n",
            "Epoch 6/14\n",
            "11/11 [==============================] - 104s 9s/step - loss: 0.5136 - accuracy: 0.7848 - val_loss: 0.2359 - val_accuracy: 0.9291\n",
            "\n",
            "Epoch 00006: val_loss improved from 0.32485 to 0.23591, saving model to Model.h5\n",
            "Epoch 7/14\n",
            "11/11 [==============================] - 104s 9s/step - loss: 0.3528 - accuracy: 0.8787 - val_loss: 0.3331 - val_accuracy: 0.8387\n",
            "\n",
            "Epoch 00007: val_loss did not improve from 0.23591\n",
            "Epoch 8/14\n",
            "11/11 [==============================] - 97s 10s/step - loss: 0.3870 - accuracy: 0.8319 - val_loss: 0.1072 - val_accuracy: 0.9783\n",
            "\n",
            "Epoch 00008: val_loss improved from 0.23591 to 0.10720, saving model to Model.h5\n",
            "Epoch 9/14\n",
            "11/11 [==============================] - 97s 9s/step - loss: 0.2977 - accuracy: 0.8914 - val_loss: 0.0892 - val_accuracy: 0.9737\n",
            "\n",
            "Epoch 00009: val_loss improved from 0.10720 to 0.08919, saving model to Model.h5\n",
            "Epoch 10/14\n",
            "11/11 [==============================] - 104s 9s/step - loss: 0.1588 - accuracy: 0.9508 - val_loss: 0.1034 - val_accuracy: 0.9611\n",
            "\n",
            "Epoch 00010: val_loss did not improve from 0.08919\n",
            "Epoch 11/14\n",
            "11/11 [==============================] - 107s 10s/step - loss: 0.1038 - accuracy: 0.9653 - val_loss: 0.0459 - val_accuracy: 0.9874\n",
            "\n",
            "Epoch 00011: val_loss improved from 0.08919 to 0.04586, saving model to Model.h5\n",
            "Epoch 12/14\n",
            "11/11 [==============================] - 103s 9s/step - loss: 0.1088 - accuracy: 0.9567 - val_loss: 0.2211 - val_accuracy: 0.9233\n",
            "\n",
            "Epoch 00012: val_loss did not improve from 0.04586\n",
            "Epoch 13/14\n",
            "11/11 [==============================] - 99s 9s/step - loss: 0.3083 - accuracy: 0.8838 - val_loss: 0.0800 - val_accuracy: 0.9771\n",
            "\n",
            "Epoch 00013: val_loss did not improve from 0.04586\n",
            "Epoch 14/14\n",
            "11/11 [==============================] - 98s 9s/step - loss: 0.1833 - accuracy: 0.9382 - val_loss: 0.0495 - val_accuracy: 0.9863\n",
            "\n",
            "Epoch 00014: val_loss did not improve from 0.04586\n"
          ],
          "name": "stdout"
        }
      ]
    },
    {
      "cell_type": "markdown",
      "metadata": {
        "id": "IjyKA-F6II8T"
      },
      "source": [
        "Get the best model"
      ]
    },
    {
      "cell_type": "code",
      "metadata": {
        "id": "ywAqtKGEGtuI"
      },
      "source": [
        "model = load_model(\"./Model.h5\")"
      ],
      "execution_count": 13,
      "outputs": []
    },
    {
      "cell_type": "markdown",
      "metadata": {
        "id": "8-yonWjMINNS"
      },
      "source": [
        "Evaluate the best model generally"
      ]
    },
    {
      "cell_type": "code",
      "metadata": {
        "colab": {
          "base_uri": "https://localhost:8080/"
        },
        "id": "GboSzkp1XV31",
        "outputId": "2f9be51e-7a77-48a6-cfd3-d84d512e8f3d"
      },
      "source": [
        "model.evaluate(val_ds)"
      ],
      "execution_count": 14,
      "outputs": [
        {
          "output_type": "stream",
          "text": [
            "7/7 [==============================] - 15s 2s/step - loss: 0.0459 - accuracy: 0.9874\n"
          ],
          "name": "stdout"
        },
        {
          "output_type": "execute_result",
          "data": {
            "text/plain": [
              "[0.045861586928367615, 0.9874141812324524]"
            ]
          },
          "metadata": {
            "tags": []
          },
          "execution_count": 14
        }
      ]
    },
    {
      "cell_type": "markdown",
      "metadata": {
        "id": "nbqVJv4-IS7w"
      },
      "source": [
        "Visualize the accuracy and loss "
      ]
    },
    {
      "cell_type": "code",
      "metadata": {
        "colab": {
          "base_uri": "https://localhost:8080/",
          "height": 404
        },
        "id": "ww8uhOTYN1xI",
        "outputId": "ddc9fe4a-af8b-4446-8f4b-afa5b0581832"
      },
      "source": [
        "#Graphs to show loss and accuracy along the training\n",
        "\n",
        "plt.figure(figsize=(15,6))\n",
        "\n",
        "plt.subplot(1,2,1)\n",
        "plt.plot(hist.epoch,hist.history['accuracy'],label = 'Training')\n",
        "plt.plot(hist.epoch,hist.history['val_accuracy'],label = 'validation')\n",
        "\n",
        "plt.title('Accuracy')\n",
        "plt.xlabel('Number of epoch')\n",
        "plt.legend()\n",
        "\n",
        "plt.subplot(1,2,2)\n",
        "plt.plot(hist.epoch,hist.history['loss'],label = 'Training')\n",
        "plt.plot(hist.epoch,hist.history['val_loss'],label = 'validation')\n",
        "\n",
        "plt.title('Loss')\n",
        "plt.legend()\n",
        "plt.xlabel('Number of epoch')\n",
        "plt.show()"
      ],
      "execution_count": 16,
      "outputs": [
        {
          "output_type": "display_data",
          "data": {
            "image/png": "[encoded data removed]",
            "text/plain": [
              "<Figure size 1080x432 with 2 Axes>"
            ]
          },
          "metadata": {
            "tags": [],
            "needs_background": "light"
          }
        }
      ]
    },
    {
      "cell_type": "markdown",
      "metadata": {
        "id": "ElpYqcZBIbvS"
      },
      "source": [
        "Evaluate the model using confusion matrix and classification report"
      ]
    },
    {
      "cell_type": "code",
      "metadata": {
        "colab": {
          "base_uri": "https://localhost:8080/"
        },
        "id": "ogkgVpJAhtIk",
        "outputId": "f3bafd21-f115-40ae-e050-9f1b8d2cc007"
      },
      "source": [
        "val = val_gen.flow_from_directory('/tmp/rockpaperscissors',\n",
        "                                  target_size=(224,224),\n",
        "                                  seed = 123,\n",
        "                                  class_mode = 'categorical',\n",
        "                                  batch_size=131,\n",
        "                                  subset='validation',\n",
        "                                  shuffle=False)\n",
        "\n",
        "filenames = val.filenames\n",
        "\n",
        "pred = model.predict_generator(val, steps = len(filenames))\n",
        "y_pred = np.argmax(pred, axis=1)\n",
        "\n",
        "print('\\nConfusion Matrix')\n",
        "print(confusion_matrix(val.classes, y_pred))\n",
        "\n",
        "print('\\nClassification Report')\n",
        "target_names = ['Paper', 'Rock', 'Scissors']\n",
        "print(classification_report(val.classes, y_pred, target_names=target_names))"
      ],
      "execution_count": 18,
      "outputs": [
        {
          "output_type": "stream",
          "text": [
            "Found 874 images belonging to 3 classes.\n",
            "WARNING:tensorflow:Your input ran out of data; interrupting training. Make sure that your dataset or generator can generate at least `steps_per_epoch * epochs` batches (in this case, 874 batches). You may need to use the repeat() function when building your dataset.\n",
            "\n",
            "Confusion Matrix\n",
            "[[278   2   4]\n",
            " [  1 289   0]\n",
            " [  4   0 296]]\n",
            "\n",
            "Classification Report\n",
            "              precision    recall  f1-score   support\n",
            "\n",
            "       Paper       0.98      0.98      0.98       284\n",
            "        Rock       0.99      1.00      0.99       290\n",
            "    Scissors       0.99      0.99      0.99       300\n",
            "\n",
            "    accuracy                           0.99       874\n",
            "   macro avg       0.99      0.99      0.99       874\n",
            "weighted avg       0.99      0.99      0.99       874\n",
            "\n"
          ],
          "name": "stdout"
        }
      ]
    },
    {
      "cell_type": "markdown",
      "metadata": {
        "id": "VCGnfpNXiCcH"
      },
      "source": [
        "Predict uploaded data"
      ]
    },
    {
      "cell_type": "code",
      "metadata": {
        "id": "oXniywpHN1iM",
        "colab": {
          "resources": {
            "http://localhost:8080/nbextensions/google.colab/files.js": {
              "data": "Ly8gQ29weXJpZ2h0IDIwMTcgR29vZ2xlIExMQwovLwovLyBMaWNlbnNlZCB1bmRlciB0aGUgQXBhY2hlIExpY2Vuc2UsIFZlcnNpb24gMi4wICh0aGUgIkxpY2Vuc2UiKTsKLy8geW91IG1heSBub3QgdXNlIHRoaXMgZmlsZSBleGNlcHQgaW4gY29tcGxpYW5jZSB3aXRoIHRoZSBMaWNlbnNlLgovLyBZb3UgbWF5IG9idGFpbiBhIGNvcHkgb2YgdGhlIExpY2Vuc2UgYXQKLy8KLy8gICAgICBodHRwOi8vd3d3LmFwYWNoZS5vcmcvbGljZW5zZXMvTElDRU5TRS0yLjAKLy8KLy8gVW5sZXNzIHJlcXVpcmVkIGJ5IGFwcGxpY2FibGUgbGF3IG9yIGFncmVlZCB0byBpbiB3cml0aW5nLCBzb2Z0d2FyZQovLyBkaXN0cmlidXRlZCB1bmRlciB0aGUgTGljZW5zZSBpcyBkaXN0cmlidXRlZCBvbiBhbiAiQVMgSVMiIEJBU0lTLAovLyBXSVRIT1VUIFdBUlJBTlRJRVMgT1IgQ09ORElUSU9OUyBPRiBBTlkgS0lORCwgZWl0aGVyIGV4cHJlc3Mgb3IgaW1wbGllZC4KLy8gU2VlIHRoZSBMaWNlbnNlIGZvciB0aGUgc3BlY2lmaWMgbGFuZ3VhZ2UgZ292ZXJuaW5nIHBlcm1pc3Npb25zIGFuZAovLyBsaW1pdGF0aW9ucyB1bmRlciB0aGUgTGljZW5zZS4KCi8qKgogKiBAZmlsZW92ZXJ2aWV3IEhlbHBlcnMgZm9yIGdvb2dsZS5jb2xhYiBQeXRob24gbW9kdWxlLgogKi8KKGZ1bmN0aW9uKHNjb3BlKSB7CmZ1bmN0aW9uIHNwYW4odGV4dCwgc3R5bGVBdHRyaWJ1dGVzID0ge30pIHsKICBjb25zdCBlbGVtZW50ID0gZG9jdW1lbnQuY3JlYXRlRWxlbWVudCgnc3BhbicpOwogIGVsZW1lbnQudGV4dENvbnRlbnQgPSB0ZXh0OwogIGZvciAoY29uc3Qga2V5IG9mIE9iamVjdC5rZXlzKHN0eWxlQXR0cmlidXRlcykpIHsKICAgIGVsZW1lbnQuc3R5bGVba2V5XSA9IHN0eWxlQXR0cmlidXRlc1trZXldOwogIH0KICByZXR1cm4gZWxlbWVudDsKfQoKLy8gTWF4IG51bWJlciBvZiBieXRlcyB3aGljaCB3aWxsIGJlIHVwbG9hZGVkIGF0IGEgdGltZS4KY29uc3QgTUFYX1BBWUxPQURfU0laRSA9IDEwMCAqIDEwMjQ7CgpmdW5jdGlvbiBfdXBsb2FkRmlsZXMoaW5wdXRJZCwgb3V0cHV0SWQpIHsKICBjb25zdCBzdGVwcyA9IHVwbG9hZEZpbGVzU3RlcChpbnB1dElkLCBvdXRwdXRJZCk7CiAgY29uc3Qgb3V0cHV0RWxlbWVudCA9IGRvY3VtZW50LmdldEVsZW1lbnRCeUlkKG91dHB1dElkKTsKICAvLyBDYWNoZSBzdGVwcyBvbiB0aGUgb3V0cHV0RWxlbWVudCB0byBtYWtlIGl0IGF2YWlsYWJsZSBmb3IgdGhlIG5leHQgY2FsbAogIC8vIHRvIHVwbG9hZEZpbGVzQ29udGludWUgZnJvbSBQeXRob24uCiAgb3V0cHV0RWxlbWVudC5zdGVwcyA9IHN0ZXBzOwoKICByZXR1cm4gX3VwbG9hZEZpbGVzQ29udGludWUob3V0cHV0SWQpOwp9CgovLyBUaGlzIGlzIHJvdWdobHkgYW4gYXN5bmMgZ2VuZXJhdG9yIChub3Qgc3VwcG9ydGVkIGluIHRoZSBicm93c2VyIHlldCksCi8vIHdoZXJlIHRoZXJlIGFyZSBtdWx0aXBsZSBhc3luY2hyb25vdXMgc3RlcHMgYW5kIHRoZSBQeXRob24gc2lkZSBpcyBnb2luZwovLyB0byBwb2xsIGZvciBjb21wbGV0aW9uIG9mIGVhY2ggc3RlcC4KLy8gVGhpcyB1c2VzIGEgUHJvbWlzZSB0byBibG9jayB0aGUgcHl0aG9uIHNpZGUgb24gY29tcGxldGlvbiBvZiBlYWNoIHN0ZXAsCi8vIHRoZW4gcGFzc2VzIHRoZSByZXN1bHQgb2YgdGhlIHByZXZpb3VzIHN0ZXAgYXMgdGhlIGlucHV0IHRvIHRoZSBuZXh0IHN0ZXAuCmZ1bmN0aW9uIF91cGxvYWRGaWxlc0NvbnRpbnVlKG91dHB1dElkKSB7CiAgY29uc3Qgb3V0cHV0RWxlbWVudCA9IGRvY3VtZW50LmdldEVsZW1lbnRCeUlkKG91dHB1dElkKTsKICBjb25zdCBzdGVwcyA9IG91dHB1dEVsZW1lbnQuc3RlcHM7CgogIGNvbnN0IG5leHQgPSBzdGVwcy5uZXh0KG91dHB1dEVsZW1lbnQubGFzdFByb21pc2VWYWx1ZSk7CiAgcmV0dXJuIFByb21pc2UucmVzb2x2ZShuZXh0LnZhbHVlLnByb21pc2UpLnRoZW4oKHZhbHVlKSA9PiB7CiAgICAvLyBDYWNoZSB0aGUgbGFzdCBwcm9taXNlIHZhbHVlIHRvIG1ha2UgaXQgYXZhaWxhYmxlIHRvIHRoZSBuZXh0CiAgICAvLyBzdGVwIG9mIHRoZSBnZW5lcmF0b3IuCiAgICBvdXRwdXRFbGVtZW50Lmxhc3RQcm9taXNlVmFsdWUgPSB2YWx1ZTsKICAgIHJldHVybiBuZXh0LnZhbHVlLnJlc3BvbnNlOwogIH0pOwp9CgovKioKICogR2VuZXJhdG9yIGZ1bmN0aW9uIHdoaWNoIGlzIGNhbGxlZCBiZXR3ZWVuIGVhY2ggYXN5bmMgc3RlcCBvZiB0aGUgdXBsb2FkCiAqIHByb2Nlc3MuCiAqIEBwYXJhbSB7c3RyaW5nfSBpbnB1dElkIEVsZW1lbnQgSUQgb2YgdGhlIGlucHV0IGZpbGUgcGlja2VyIGVsZW1lbnQuCiAqIEBwYXJhbSB7c3RyaW5nfSBvdXRwdXRJZCBFbGVtZW50IElEIG9mIHRoZSBvdXRwdXQgZGlzcGxheS4KICogQHJldHVybiB7IUl0ZXJhYmxlPCFPYmplY3Q+fSBJdGVyYWJsZSBvZiBuZXh0IHN0ZXBzLgogKi8KZnVuY3Rpb24qIHVwbG9hZEZpbGVzU3RlcChpbnB1dElkLCBvdXRwdXRJZCkgewogIGNvbnN0IGlucHV0RWxlbWVudCA9IGRvY3VtZW50LmdldEVsZW1lbnRCeUlkKGlucHV0SWQpOwogIGlucHV0RWxlbWVudC5kaXNhYmxlZCA9IGZhbHNlOwoKICBjb25zdCBvdXRwdXRFbGVtZW50ID0gZG9jdW1lbnQuZ2V0RWxlbWVudEJ5SWQob3V0cHV0SWQpOwogIG91dHB1dEVsZW1lbnQuaW5uZXJIVE1MID0gJyc7CgogIGNvbnN0IHBpY2tlZFByb21pc2UgPSBuZXcgUHJvbWlzZSgocmVzb2x2ZSkgPT4gewogICAgaW5wdXRFbGVtZW50LmFkZEV2ZW50TGlzdGVuZXIoJ2NoYW5nZScsIChlKSA9PiB7CiAgICAgIHJlc29sdmUoZS50YXJnZXQuZmlsZXMpOwogICAgfSk7CiAgfSk7CgogIGNvbnN0IGNhbmNlbCA9IGRvY3VtZW50LmNyZWF0ZUVsZW1lbnQoJ2J1dHRvbicpOwogIGlucHV0RWxlbWVudC5wYXJlbnRFbGVtZW50LmFwcGVuZENoaWxkKGNhbmNlbCk7CiAgY2FuY2VsLnRleHRDb250ZW50ID0gJ0NhbmNlbCB1cGxvYWQnOwogIGNvbnN0IGNhbmNlbFByb21pc2UgPSBuZXcgUHJvbWlzZSgocmVzb2x2ZSkgPT4gewogICAgY2FuY2VsLm9uY2xpY2sgPSAoKSA9PiB7CiAgICAgIHJlc29sdmUobnVsbCk7CiAgICB9OwogIH0pOwoKICAvLyBXYWl0IGZvciB0aGUgdXNlciB0byBwaWNrIHRoZSBmaWxlcy4KICBjb25zdCBmaWxlcyA9IHlpZWxkIHsKICAgIHByb21pc2U6IFByb21pc2UucmFjZShbcGlja2VkUHJvbWlzZSwgY2FuY2VsUHJvbWlzZV0pLAogICAgcmVzcG9uc2U6IHsKICAgICAgYWN0aW9uOiAnc3RhcnRpbmcnLAogICAgfQogIH07CgogIGNhbmNlbC5yZW1vdmUoKTsKCiAgLy8gRGlzYWJsZSB0aGUgaW5wdXQgZWxlbWVudCBzaW5jZSBmdXJ0aGVyIHBpY2tzIGFyZSBub3QgYWxsb3dlZC4KICBpbnB1dEVsZW1lbnQuZGlzYWJsZWQgPSB0cnVlOwoKICBpZiAoIWZpbGVzKSB7CiAgICByZXR1cm4gewogICAgICByZXNwb25zZTogewogICAgICAgIGFjdGlvbjogJ2NvbXBsZXRlJywKICAgICAgfQogICAgfTsKICB9CgogIGZvciAoY29uc3QgZmlsZSBvZiBmaWxlcykgewogICAgY29uc3QgbGkgPSBkb2N1bWVudC5jcmVhdGVFbGVtZW50KCdsaScpOwogICAgbGkuYXBwZW5kKHNwYW4oZmlsZS5uYW1lLCB7Zm9udFdlaWdodDogJ2JvbGQnfSkpOwogICAgbGkuYXBwZW5kKHNwYW4oCiAgICAgICAgYCgke2ZpbGUudHlwZSB8fCAnbi9hJ30pIC0gJHtmaWxlLnNpemV9IGJ5dGVzLCBgICsKICAgICAgICBgbGFzdCBtb2RpZmllZDogJHsKICAgICAgICAgICAgZmlsZS5sYXN0TW9kaWZpZWREYXRlID8gZmlsZS5sYXN0TW9kaWZpZWREYXRlLnRvTG9jYWxlRGF0ZVN0cmluZygpIDoKICAgICAgICAgICAgICAgICAgICAgICAgICAgICAgICAgICAgJ24vYSd9IC0gYCkpOwogICAgY29uc3QgcGVyY2VudCA9IHNwYW4oJzAlIGRvbmUnKTsKICAgIGxpLmFwcGVuZENoaWxkKHBlcmNlbnQpOwoKICAgIG91dHB1dEVsZW1lbnQuYXBwZW5kQ2hpbGQobGkpOwoKICAgIGNvbnN0IGZpbGVEYXRhUHJvbWlzZSA9IG5ldyBQcm9taXNlKChyZXNvbHZlKSA9PiB7CiAgICAgIGNvbnN0IHJlYWRlciA9IG5ldyBGaWxlUmVhZGVyKCk7CiAgICAgIHJlYWRlci5vbmxvYWQgPSAoZSkgPT4gewogICAgICAgIHJlc29sdmUoZS50YXJnZXQucmVzdWx0KTsKICAgICAgfTsKICAgICAgcmVhZGVyLnJlYWRBc0FycmF5QnVmZmVyKGZpbGUpOwogICAgfSk7CiAgICAvLyBXYWl0IGZvciB0aGUgZGF0YSB0byBiZSByZWFkeS4KICAgIGxldCBmaWxlRGF0YSA9IHlpZWxkIHsKICAgICAgcHJvbWlzZTogZmlsZURhdGFQcm9taXNlLAogICAgICByZXNwb25zZTogewogICAgICAgIGFjdGlvbjogJ2NvbnRpbnVlJywKICAgICAgfQogICAgfTsKCiAgICAvLyBVc2UgYSBjaHVua2VkIHNlbmRpbmcgdG8gYXZvaWQgbWVzc2FnZSBzaXplIGxpbWl0cy4gU2VlIGIvNjIxMTU2NjAuCiAgICBsZXQgcG9zaXRpb24gPSAwOwogICAgZG8gewogICAgICBjb25zdCBsZW5ndGggPSBNYXRoLm1pbihmaWxlRGF0YS5ieXRlTGVuZ3RoIC0gcG9zaXRpb24sIE1BWF9QQVlMT0FEX1NJWkUpOwogICAgICBjb25zdCBjaHVuayA9IG5ldyBVaW50OEFycmF5KGZpbGVEYXRhLCBwb3NpdGlvbiwgbGVuZ3RoKTsKICAgICAgcG9zaXRpb24gKz0gbGVuZ3RoOwoKICAgICAgY29uc3QgYmFzZTY0ID0gYnRvYShTdHJpbmcuZnJvbUNoYXJDb2RlLmFwcGx5KG51bGwsIGNodW5rKSk7CiAgICAgIHlpZWxkIHsKICAgICAgICByZXNwb25zZTogewogICAgICAgICAgYWN0aW9uOiAnYXBwZW5kJywKICAgICAgICAgIGZpbGU6IGZpbGUubmFtZSwKICAgICAgICAgIGRhdGE6IGJhc2U2NCwKICAgICAgICB9LAogICAgICB9OwoKICAgICAgbGV0IHBlcmNlbnREb25lID0gZmlsZURhdGEuYnl0ZUxlbmd0aCA9PT0gMCA/CiAgICAgICAgICAxMDAgOgogICAgICAgICAgTWF0aC5yb3VuZCgocG9zaXRpb24gLyBmaWxlRGF0YS5ieXRlTGVuZ3RoKSAqIDEwMCk7CiAgICAgIHBlcmNlbnQudGV4dENvbnRlbnQgPSBgJHtwZXJjZW50RG9uZX0lIGRvbmVgOwoKICAgIH0gd2hpbGUgKHBvc2l0aW9uIDwgZmlsZURhdGEuYnl0ZUxlbmd0aCk7CiAgfQoKICAvLyBBbGwgZG9uZS4KICB5aWVsZCB7CiAgICByZXNwb25zZTogewogICAgICBhY3Rpb246ICdjb21wbGV0ZScsCiAgICB9CiAgfTsKfQoKc2NvcGUuZ29vZ2xlID0gc2NvcGUuZ29vZ2xlIHx8IHt9OwpzY29wZS5nb29nbGUuY29sYWIgPSBzY29wZS5nb29nbGUuY29sYWIgfHwge307CnNjb3BlLmdvb2dsZS5jb2xhYi5fZmlsZXMgPSB7CiAgX3VwbG9hZEZpbGVzLAogIF91cGxvYWRGaWxlc0NvbnRpbnVlLAp9Owp9KShzZWxmKTsK",
              "ok": true,
              "headers": [
                [
                  "content-type",
                  "application/javascript"
                ]
              ],
              "status": 200,
              "status_text": ""
            }
          },
          "base_uri": "https://localhost:8080/",
          "height": 426
        },
        "outputId": "a38ad61a-6422-49fe-80bc-a729d15da9fe"
      },
      "source": [
        "uploaded = files.upload()\n",
        " \n",
        "for fn in uploaded.keys():\n",
        " \n",
        "  # predicting images\n",
        "  path = fn\n",
        "  img = image.load_img(path, target_size=(224,224))\n",
        "  imgplot = plt.imshow(img)\n",
        "  x = image.img_to_array(img)\n",
        "  x = np.expand_dims(x, axis=0)\n",
        " \n",
        "  images = np.vstack([x])\n",
        "  classes = model.predict(images, batch_size=10)\n",
        "  probability = classes[0]\n",
        "\n",
        "  print('\\nthe prob of Paper is', probability[0])\n",
        "  print('the prob of Rock is', probability[1])\n",
        "  print('the prob of Scissor is', probability[2])\n",
        "  print('\\n')"
      ],
      "execution_count": 19,
      "outputs": [
        {
          "output_type": "display_data",
          "data": {
            "text/html": [
              "\n",
              "     <input type=\"file\" id=\"files-ed9dd57a-2dc5-4882-b895-ff47000944e5\" name=\"files[]\" multiple disabled\n",
              "        style=\"border:none\" />\n",
              "     <output id=\"result-ed9dd57a-2dc5-4882-b895-ff47000944e5\">\n",
              "      Upload widget is only available when the cell has been executed in the\n",
              "      current browser session. Please rerun this cell to enable.\n",
              "      </output>\n",
              "      <script src=\"/nbextensions/google.colab/files.js\"></script> "
            ],
            "text/plain": [
              "<IPython.core.display.HTML object>"
            ]
          },
          "metadata": {
            "tags": []
          }
        },
        {
          "output_type": "stream",
          "text": [
            "Saving WhatsApp Image 2021-07-09 at 20.40.34.jpeg to WhatsApp Image 2021-07-09 at 20.40.34.jpeg\n",
            "\n",
            "the prob of Paper is 0.99995923\n",
            "the prob of Rock is 2.165812e-05\n",
            "the prob of Scissor is 1.9047933e-05\n",
            "\n",
            "\n"
          ],
          "name": "stdout"
        },
        {
          "output_type": "display_data",
          "data": {
            "image/png": "[encoded data removed]",
            "text/plain": [
              "<Figure size 432x288 with 1 Axes>"
            ]
          },
          "metadata": {
            "tags": [],
            "needs_background": "light"
          }
        }
      ]
    }
  ]
}